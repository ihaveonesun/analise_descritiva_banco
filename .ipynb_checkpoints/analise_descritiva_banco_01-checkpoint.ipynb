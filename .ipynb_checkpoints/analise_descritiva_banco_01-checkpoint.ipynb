{
 "cells": [
  {
   "cell_type": "markdown",
   "id": "ce8d275f",
   "metadata": {},
   "source": [
    "# <a name='contexto'>Contexto</a>\n",
    "Um grande banco tem o objetivo de desenvolver um modelo para identificar maior probabilidade de <i>default</i>. A tarefa será realizar uma análise descritiva e tratamento dos dados para compreender o perfil dos clientes e, identificar quais fatores podem influenciar no risco de crédito."
   ]
  },
  {
   "cell_type": "markdown",
   "id": "e15eb958",
   "metadata": {},
   "source": [
    "Esclarecimento de termos:\n",
    "* O ***default*** é um processo que ocorre quando o devedor não consegue honrar com suas obrigações"
   ]
  },
  {
   "cell_type": "markdown",
   "id": "1a98b7aa",
   "metadata": {},
   "source": [
    "# <a name='indice'>Índice</a>\n",
    "* [Contexto](#contexto)\n",
    "* [Índice](#indice)\n",
    "* [1. Importando Bibliotecas e Base de Dados](#secao_1)\n",
    "* [2. Conhecendo e Tratando a Base de Dados](#secao_2)\n",
    "* [3. Análise Descritiva](#secao_3)\n",
    "* [4. ](#secao_4)\n",
    "* [5. ](#secao_5)\n",
    "* [6. ](#secao_6) \n",
    "* [7. ](#secao_7)\n",
    "* [Conclusão](#conclusao)"
   ]
  },
  {
   "cell_type": "markdown",
   "id": "84d6f6fb",
   "metadata": {},
   "source": [
    "#  <a name=\"secao_1\">1. Importando Bibliotecas e Base de Dados</a>\n",
    "[voltar ao índice](#indice)"
   ]
  },
  {
   "cell_type": "code",
   "execution_count": 1,
   "id": "5095c23f",
   "metadata": {},
   "outputs": [],
   "source": [
    "import pandas as pd\n",
    "import numpy as np\n",
    "import seaborn as sns\n",
    "import statistics as st\n",
    "import matplotlib.pyplot as plt"
   ]
  },
  {
   "cell_type": "code",
   "execution_count": 2,
   "id": "cd7ee0f4",
   "metadata": {},
   "outputs": [],
   "source": [
    "df_risco_credito = pd.read_csv('dados/risco_credito.csv')"
   ]
  },
  {
   "cell_type": "code",
   "execution_count": 3,
   "id": "d164a386",
   "metadata": {
    "scrolled": true
   },
   "outputs": [
    {
     "data": {
      "text/html": [
       "<div>\n",
       "<style scoped>\n",
       "    .dataframe tbody tr th:only-of-type {\n",
       "        vertical-align: middle;\n",
       "    }\n",
       "\n",
       "    .dataframe tbody tr th {\n",
       "        vertical-align: top;\n",
       "    }\n",
       "\n",
       "    .dataframe thead th {\n",
       "        text-align: right;\n",
       "    }\n",
       "</style>\n",
       "<table border=\"1\" class=\"dataframe\">\n",
       "  <thead>\n",
       "    <tr style=\"text-align: right;\">\n",
       "      <th></th>\n",
       "      <th>default</th>\n",
       "      <th>t_risco</th>\n",
       "      <th>valor_emprestimo</th>\n",
       "      <th>prazo_pagamento</th>\n",
       "      <th>limite_credito</th>\n",
       "      <th>renda</th>\n",
       "      <th>signo</th>\n",
       "      <th>genero</th>\n",
       "      <th>perfil_facebook</th>\n",
       "      <th>n_emprestimos_inadiplentes</th>\n",
       "    </tr>\n",
       "  </thead>\n",
       "  <tbody>\n",
       "    <tr>\n",
       "      <th>0</th>\n",
       "      <td>False</td>\n",
       "      <td>0.43</td>\n",
       "      <td>20024.31</td>\n",
       "      <td>60.0</td>\n",
       "      <td>62386.0</td>\n",
       "      <td>59869.05</td>\n",
       "      <td>virg</td>\n",
       "      <td>f</td>\n",
       "      <td>True</td>\n",
       "      <td>0.0</td>\n",
       "    </tr>\n",
       "    <tr>\n",
       "      <th>1</th>\n",
       "      <td>False</td>\n",
       "      <td>0.23</td>\n",
       "      <td>10046.51</td>\n",
       "      <td>36.0</td>\n",
       "      <td>NaN</td>\n",
       "      <td>46016.31</td>\n",
       "      <td>sagi</td>\n",
       "      <td>f</td>\n",
       "      <td>False</td>\n",
       "      <td>0.0</td>\n",
       "    </tr>\n",
       "    <tr>\n",
       "      <th>2</th>\n",
       "      <td>False</td>\n",
       "      <td>0.30</td>\n",
       "      <td>21228.25</td>\n",
       "      <td>60.0</td>\n",
       "      <td>NaN</td>\n",
       "      <td>48025.47</td>\n",
       "      <td>libr</td>\n",
       "      <td>m</td>\n",
       "      <td>True</td>\n",
       "      <td>0.0</td>\n",
       "    </tr>\n",
       "    <tr>\n",
       "      <th>3</th>\n",
       "      <td>False</td>\n",
       "      <td>0.15</td>\n",
       "      <td>23032.33</td>\n",
       "      <td>36.0</td>\n",
       "      <td>NaN</td>\n",
       "      <td>46011.12</td>\n",
       "      <td>NaN</td>\n",
       "      <td>m</td>\n",
       "      <td>False</td>\n",
       "      <td>0.0</td>\n",
       "    </tr>\n",
       "    <tr>\n",
       "      <th>4</th>\n",
       "      <td>False</td>\n",
       "      <td>0.08</td>\n",
       "      <td>24026.29</td>\n",
       "      <td>36.0</td>\n",
       "      <td>32366.0</td>\n",
       "      <td>90026.17</td>\n",
       "      <td>libr</td>\n",
       "      <td>m</td>\n",
       "      <td>NaN</td>\n",
       "      <td>0.0</td>\n",
       "    </tr>\n",
       "  </tbody>\n",
       "</table>\n",
       "</div>"
      ],
      "text/plain": [
       "  default  t_risco  valor_emprestimo  prazo_pagamento  limite_credito  \\\n",
       "0   False     0.43          20024.31             60.0         62386.0   \n",
       "1   False     0.23          10046.51             36.0             NaN   \n",
       "2   False     0.30          21228.25             60.0             NaN   \n",
       "3   False     0.15          23032.33             36.0             NaN   \n",
       "4   False     0.08          24026.29             36.0         32366.0   \n",
       "\n",
       "      renda signo genero perfil_facebook  n_emprestimos_inadiplentes  \n",
       "0  59869.05  virg      f            True                         0.0  \n",
       "1  46016.31  sagi      f           False                         0.0  \n",
       "2  48025.47  libr      m            True                         0.0  \n",
       "3  46011.12   NaN      m           False                         0.0  \n",
       "4  90026.17  libr      m             NaN                         0.0  "
      ]
     },
     "execution_count": 3,
     "metadata": {},
     "output_type": "execute_result"
    }
   ],
   "source": [
    "df_risco_credito.head()"
   ]
  },
  {
   "cell_type": "markdown",
   "id": "f185c22e",
   "metadata": {},
   "source": [
    "#  <a name=\"secao_2\">2. Conhecendo e Tratando a Base de Dados</a>\n",
    "[voltar ao índice](#indice)"
   ]
  },
  {
   "cell_type": "markdown",
   "id": "a43f140f",
   "metadata": {},
   "source": [
    "#### Informações gerais"
   ]
  },
  {
   "cell_type": "code",
   "execution_count": 4,
   "id": "93d7d8bf",
   "metadata": {},
   "outputs": [
    {
     "name": "stdout",
     "output_type": "stream",
     "text": [
      "<class 'pandas.core.frame.DataFrame'>\n",
      "RangeIndex: 64592 entries, 0 to 64591\n",
      "Data columns (total 10 columns):\n",
      " #   Column                      Non-Null Count  Dtype  \n",
      "---  ------                      --------------  -----  \n",
      " 0   default                     59966 non-null  object \n",
      " 1   t_risco                     63807 non-null  float64\n",
      " 2   valor_emprestimo            63807 non-null  float64\n",
      " 3   prazo_pagamento             63807 non-null  float64\n",
      " 4   limite_credito              44839 non-null  float64\n",
      " 5   renda                       63807 non-null  float64\n",
      " 6   signo                       43825 non-null  object \n",
      " 7   genero                      57406 non-null  object \n",
      " 8   perfil_facebook             58185 non-null  object \n",
      " 9   n_emprestimos_inadiplentes  63789 non-null  float64\n",
      "dtypes: float64(6), object(4)\n",
      "memory usage: 4.9+ MB\n"
     ]
    }
   ],
   "source": [
    "df_risco_credito.info()"
   ]
  },
  {
   "cell_type": "code",
   "execution_count": 5,
   "id": "6b4438f1",
   "metadata": {},
   "outputs": [
    {
     "data": {
      "text/plain": [
       "default                        4626\n",
       "t_risco                         785\n",
       "valor_emprestimo                785\n",
       "prazo_pagamento                 785\n",
       "limite_credito                19753\n",
       "renda                           785\n",
       "signo                         20767\n",
       "genero                         7186\n",
       "perfil_facebook                6407\n",
       "n_emprestimos_inadiplentes      803\n",
       "dtype: int64"
      ]
     },
     "execution_count": 5,
     "metadata": {},
     "output_type": "execute_result"
    }
   ],
   "source": [
    "df_risco_credito.isnull().sum()"
   ]
  },
  {
   "cell_type": "markdown",
   "id": "6d7f010a",
   "metadata": {},
   "source": [
    "### Consolidando base de dados"
   ]
  },
  {
   "cell_type": "markdown",
   "id": "b4776d93",
   "metadata": {},
   "source": [
    "#### Tratando de valores nulos"
   ]
  },
  {
   "cell_type": "markdown",
   "id": "a3a51256",
   "metadata": {},
   "source": [
    "Por conta da aparente irrelevância, e da elevada quantidade de valores faltantes, foi optado em excluir a coluna <i>signo</i>, da base de dados."
   ]
  },
  {
   "cell_type": "code",
   "execution_count": 8,
   "id": "059cc92b",
   "metadata": {},
   "outputs": [
    {
     "data": {
      "text/plain": [
       "Index(['default', 't_risco', 'valor_emprestimo', 'prazo_pagamento',\n",
       "       'limite_credito', 'renda', 'genero', 'perfil_facebook',\n",
       "       'n_emprestimos_inadiplentes'],\n",
       "      dtype='object')"
      ]
     },
     "execution_count": 8,
     "metadata": {},
     "output_type": "execute_result"
    }
   ],
   "source": [
    "df_risco_credito.drop('signo', axis=1, inplace=True)"
   ]
  },
  {
   "cell_type": "markdown",
   "id": "9290a374",
   "metadata": {},
   "source": [
    "Acerca da coluna <i>limite_credito</i>, apesar da grande quantidade de valores faltantes, parece ser uma ideia razoável utilizar a mediana em seu preenchimento. Outros métodos poderiam levar à distorções mais significativas."
   ]
  },
  {
   "cell_type": "code",
   "execution_count": 9,
   "id": "a8f7a1a7",
   "metadata": {},
   "outputs": [],
   "source": [
    "df_risco_credito.limite_credito.fillna(df_risco_credito.limite_credito.median(), inplace=True)"
   ]
  },
  {
   "cell_type": "markdown",
   "id": "d0793d54",
   "metadata": {},
   "source": [
    "A quantidade de valores faltantes nas demais colunas, em conjunto, possuem uma quantidade expressiva de dados. Sua exclusão resultará na perda de aproximadamente 20% da base de dados. Se pode optar por tratar mais algumas das colunas, entretanto, aqui seguirei pela exclusão."
   ]
  },
  {
   "cell_type": "code",
   "execution_count": 11,
   "id": "163fc3a8",
   "metadata": {},
   "outputs": [
    {
     "name": "stdout",
     "output_type": "stream",
     "text": [
      "<class 'pandas.core.frame.DataFrame'>\n",
      "Int64Index: 51259 entries, 0 to 64591\n",
      "Data columns (total 9 columns):\n",
      " #   Column                      Non-Null Count  Dtype  \n",
      "---  ------                      --------------  -----  \n",
      " 0   default                     51259 non-null  object \n",
      " 1   t_risco                     51259 non-null  float64\n",
      " 2   valor_emprestimo            51259 non-null  float64\n",
      " 3   prazo_pagamento             51259 non-null  float64\n",
      " 4   limite_credito              51259 non-null  float64\n",
      " 5   renda                       51259 non-null  float64\n",
      " 6   genero                      51259 non-null  object \n",
      " 7   perfil_facebook             51259 non-null  object \n",
      " 8   n_emprestimos_inadiplentes  51259 non-null  float64\n",
      "dtypes: float64(6), object(3)\n",
      "memory usage: 3.9+ MB\n"
     ]
    }
   ],
   "source": [
    "df_risco_credito.dropna(inplace=True)"
   ]
  },
  {
   "cell_type": "markdown",
   "id": "e5174082",
   "metadata": {},
   "source": [
    "#  <a name=\"secao_3\">3. Análise Descritiva</a>\n",
    "[voltar ao índice](#indice)"
   ]
  },
  {
   "cell_type": "markdown",
   "id": "c1c30407",
   "metadata": {},
   "source": [
    "#### Tratar features qualitativas"
   ]
  },
  {
   "cell_type": "code",
   "execution_count": 81,
   "id": "7e1c0703",
   "metadata": {},
   "outputs": [
    {
     "data": {
      "text/plain": [
       "Index(['default', 't_risco', 'valor_emprestimo', 'prazo_pagamento',\n",
       "       'limite_credito', 'renda', 'genero', 'perfil_facebook',\n",
       "       'n_emprestimos_inadiplentes'],\n",
       "      dtype='object')"
      ]
     },
     "execution_count": 81,
     "metadata": {},
     "output_type": "execute_result"
    }
   ],
   "source": [
    "df_risco_credito.columns"
   ]
  },
  {
   "cell_type": "code",
   "execution_count": 75,
   "id": "c4bb5c6c",
   "metadata": {},
   "outputs": [],
   "source": [
    "df_risco_credito.default = df_risco_credito.default.map({False:'Não', True:'Sim'})\n",
    "df_risco_credito.perfil_facebook = df_risco_credito.perfil_facebook.map({False:'Não', True:'Sim'})\n",
    "df_risco_credito.genero = df_risco_credito.genero.map({'m':'Masculino', 'f':'Feminino'})"
   ]
  },
  {
   "cell_type": "markdown",
   "id": "38c5e503",
   "metadata": {},
   "source": [
    "#### Tratar features quantitativas"
   ]
  },
  {
   "cell_type": "code",
   "execution_count": 39,
   "id": "42b50192",
   "metadata": {},
   "outputs": [],
   "source": [
    "numericos = ['t_risco', 'valor_emprestimo', 'prazo_pagamento', 'limite_credito', 'renda', 'n_emprestimos_inadiplentes']"
   ]
  },
  {
   "cell_type": "code",
   "execution_count": 44,
   "id": "dc626e0c",
   "metadata": {},
   "outputs": [
    {
     "data": {
      "text/html": [
       "<div>\n",
       "<style scoped>\n",
       "    .dataframe tbody tr th:only-of-type {\n",
       "        vertical-align: middle;\n",
       "    }\n",
       "\n",
       "    .dataframe tbody tr th {\n",
       "        vertical-align: top;\n",
       "    }\n",
       "\n",
       "    .dataframe thead th {\n",
       "        text-align: right;\n",
       "    }\n",
       "</style>\n",
       "<table border=\"1\" class=\"dataframe\">\n",
       "  <thead>\n",
       "    <tr style=\"text-align: right;\">\n",
       "      <th></th>\n",
       "      <th>t_risco</th>\n",
       "      <th>valor_emprestimo</th>\n",
       "      <th>prazo_pagamento</th>\n",
       "      <th>limite_credito</th>\n",
       "      <th>renda</th>\n",
       "      <th>n_emprestimos_inadiplentes</th>\n",
       "    </tr>\n",
       "  </thead>\n",
       "  <tbody>\n",
       "    <tr>\n",
       "      <th>count</th>\n",
       "      <td>51259.00</td>\n",
       "      <td>51259.00</td>\n",
       "      <td>51259.00</td>\n",
       "      <td>51259.00</td>\n",
       "      <td>51259.00</td>\n",
       "      <td>51259.00</td>\n",
       "    </tr>\n",
       "    <tr>\n",
       "      <th>mean</th>\n",
       "      <td>0.29</td>\n",
       "      <td>13419.57</td>\n",
       "      <td>40.67</td>\n",
       "      <td>31379.34</td>\n",
       "      <td>71190.55</td>\n",
       "      <td>0.00</td>\n",
       "    </tr>\n",
       "    <tr>\n",
       "      <th>std</th>\n",
       "      <td>0.10</td>\n",
       "      <td>7957.40</td>\n",
       "      <td>9.50</td>\n",
       "      <td>30558.39</td>\n",
       "      <td>52157.41</td>\n",
       "      <td>0.08</td>\n",
       "    </tr>\n",
       "    <tr>\n",
       "      <th>min</th>\n",
       "      <td>0.00</td>\n",
       "      <td>527.07</td>\n",
       "      <td>36.00</td>\n",
       "      <td>0.00</td>\n",
       "      <td>4821.18</td>\n",
       "      <td>0.00</td>\n",
       "    </tr>\n",
       "    <tr>\n",
       "      <th>25%</th>\n",
       "      <td>0.22</td>\n",
       "      <td>7227.28</td>\n",
       "      <td>36.00</td>\n",
       "      <td>17289.00</td>\n",
       "      <td>44027.13</td>\n",
       "      <td>0.00</td>\n",
       "    </tr>\n",
       "    <tr>\n",
       "      <th>50%</th>\n",
       "      <td>0.29</td>\n",
       "      <td>12013.12</td>\n",
       "      <td>36.00</td>\n",
       "      <td>25775.00</td>\n",
       "      <td>60038.33</td>\n",
       "      <td>0.00</td>\n",
       "    </tr>\n",
       "    <tr>\n",
       "      <th>75%</th>\n",
       "      <td>0.36</td>\n",
       "      <td>18036.87</td>\n",
       "      <td>36.00</td>\n",
       "      <td>35003.50</td>\n",
       "      <td>85033.27</td>\n",
       "      <td>0.00</td>\n",
       "    </tr>\n",
       "    <tr>\n",
       "      <th>max</th>\n",
       "      <td>0.81</td>\n",
       "      <td>35059.60</td>\n",
       "      <td>60.00</td>\n",
       "      <td>613117.00</td>\n",
       "      <td>5000027.83</td>\n",
       "      <td>5.00</td>\n",
       "    </tr>\n",
       "  </tbody>\n",
       "</table>\n",
       "</div>"
      ],
      "text/plain": [
       "        t_risco  valor_emprestimo  prazo_pagamento  limite_credito  \\\n",
       "count  51259.00          51259.00         51259.00        51259.00   \n",
       "mean       0.29          13419.57            40.67        31379.34   \n",
       "std        0.10           7957.40             9.50        30558.39   \n",
       "min        0.00            527.07            36.00            0.00   \n",
       "25%        0.22           7227.28            36.00        17289.00   \n",
       "50%        0.29          12013.12            36.00        25775.00   \n",
       "75%        0.36          18036.87            36.00        35003.50   \n",
       "max        0.81          35059.60            60.00       613117.00   \n",
       "\n",
       "            renda  n_emprestimos_inadiplentes  \n",
       "count    51259.00                    51259.00  \n",
       "mean     71190.55                        0.00  \n",
       "std      52157.41                        0.08  \n",
       "min       4821.18                        0.00  \n",
       "25%      44027.13                        0.00  \n",
       "50%      60038.33                        0.00  \n",
       "75%      85033.27                        0.00  \n",
       "max    5000027.83                        5.00  "
      ]
     },
     "execution_count": 44,
     "metadata": {},
     "output_type": "execute_result"
    }
   ],
   "source": [
    "df_risco_credito[numericos].describe().round(2)"
   ]
  },
  {
   "cell_type": "markdown",
   "id": "e6400fed",
   "metadata": {},
   "source": [
    "#### Coeficiente de Variação"
   ]
  },
  {
   "cell_type": "code",
   "execution_count": 52,
   "id": "db6f9a34",
   "metadata": {},
   "outputs": [],
   "source": [
    "def coeficiente_variacao(coluna):\n",
    "    '''Essa função calcula o coeficiente de variação dos valores de uma determinada coluna, e as exibe'''\n",
    "    coeficiente = st.stdev(coluna)/st.mean(coluna)\n",
    "    print(f'CV_{coluna.name}:', round(coeficiente, 2))"
   ]
  },
  {
   "cell_type": "code",
   "execution_count": 70,
   "id": "55be5bb6",
   "metadata": {},
   "outputs": [
    {
     "name": "stdout",
     "output_type": "stream",
     "text": [
      "CV_t_risco: 0.34\n",
      "CV_valor_emprestimo: 0.59\n",
      "CV_prazo_pagamento: 0.23\n",
      "CV_limite_credito: 0.97\n",
      "CV_renda: 0.73\n",
      "CV_n_emprestimos_inadiplentes: 17.47\n"
     ]
    }
   ],
   "source": [
    "_ = [coeficiente_variacao(df_risco_credito[coluna]) for coluna in numericos]"
   ]
  },
  {
   "cell_type": "markdown",
   "id": "1e9a840a",
   "metadata": {},
   "source": [
    "#  <a name=\"secao_4\">4. Perfil dos Clientes</a>\n",
    "[voltar ao índice](#indice)"
   ]
  },
  {
   "cell_type": "code",
   "execution_count": 95,
   "id": "de835084",
   "metadata": {},
   "outputs": [
    {
     "data": {
      "text/plain": [
       "Não    0.841881\n",
       "Sim    0.158119\n",
       "Name: default, dtype: float64"
      ]
     },
     "execution_count": 95,
     "metadata": {},
     "output_type": "execute_result"
    }
   ],
   "source": [
    "df_risco_credito.default.value_counts(normalize=True)"
   ]
  },
  {
   "cell_type": "code",
   "execution_count": 96,
   "id": "d51cf934",
   "metadata": {},
   "outputs": [
    {
     "data": {
      "text/plain": [
       "Masculino    0.676213\n",
       "Feminino     0.323787\n",
       "Name: genero, dtype: float64"
      ]
     },
     "execution_count": 96,
     "metadata": {},
     "output_type": "execute_result"
    }
   ],
   "source": [
    "df_risco_credito.genero.value_counts(normalize=True)"
   ]
  },
  {
   "cell_type": "code",
   "execution_count": 97,
   "id": "c1894e5d",
   "metadata": {},
   "outputs": [
    {
     "data": {
      "text/plain": [
       "Não    0.629841\n",
       "Sim    0.370159\n",
       "Name: perfil_facebook, dtype: float64"
      ]
     },
     "execution_count": 97,
     "metadata": {},
     "output_type": "execute_result"
    }
   ],
   "source": [
    "df_risco_credito.perfil_facebook.value_counts(normalize=True)"
   ]
  },
  {
   "cell_type": "markdown",
   "id": "e7a79271",
   "metadata": {},
   "source": [
    "* 84% dos clientes não estão em situação <i>default</i>\n",
    "* 67,6% são do gênero masculino\n",
    "* 63% relataram não usarem o Facebook"
   ]
  },
  {
   "cell_type": "markdown",
   "id": "4912245f",
   "metadata": {},
   "source": [
    "#  <a name=\"secao_5\">5. Análise de Outliers</a>\n",
    "[voltar ao índice](#indice)"
   ]
  },
  {
   "cell_type": "markdown",
   "id": "94a81918",
   "metadata": {},
   "source": [
    "#### Feature renda"
   ]
  },
  {
   "cell_type": "code",
   "execution_count": 123,
   "id": "763f7bfa",
   "metadata": {},
   "outputs": [
    {
     "name": "stderr",
     "output_type": "stream",
     "text": [
      "C:\\Users\\Thiago\\anaconda3\\lib\\site-packages\\seaborn\\_decorators.py:36: FutureWarning: Pass the following variable as a keyword arg: x. From version 0.12, the only valid positional argument will be `data`, and passing other arguments without an explicit keyword will result in an error or misinterpretation.\n",
      "  warnings.warn(\n"
     ]
    },
    {
     "data": {
      "text/plain": [
       "<AxesSubplot:xlabel='renda'>"
      ]
     },
     "execution_count": 123,
     "metadata": {},
     "output_type": "execute_result"
    },
    {
     "data": {
      "image/png": "[encoded data removed]",
      "text/plain": [
       "<Figure size 432x288 with 1 Axes>"
      ]
     },
     "metadata": {
      "needs_background": "light"
     },
     "output_type": "display_data"
    }
   ],
   "source": [
    "sns.boxplot(df_risco_credito.renda)"
   ]
  },
  {
   "cell_type": "code",
   "execution_count": 127,
   "id": "431fe257",
   "metadata": {},
   "outputs": [
    {
     "data": {
      "text/plain": [
       "63593    5000027.83\n",
       "37679    2000018.20\n",
       "41257    1900023.70\n",
       "42471    1362027.90\n",
       "41558    1200025.56\n",
       "23402    1176021.62\n",
       "28680    1000036.73\n",
       "18898    1000035.68\n",
       "23822    1000023.87\n",
       "62927     950021.60\n",
       "Name: renda, dtype: float64"
      ]
     },
     "execution_count": 127,
     "metadata": {},
     "output_type": "execute_result"
    }
   ],
   "source": [
    "df_risco_credito.renda.sort_values(ascending=False).head(10)"
   ]
  },
  {
   "cell_type": "code",
   "execution_count": 122,
   "id": "175eba9c",
   "metadata": {},
   "outputs": [
    {
     "name": "stderr",
     "output_type": "stream",
     "text": [
      "C:\\Users\\Thiago\\anaconda3\\lib\\site-packages\\seaborn\\distributions.py:2619: FutureWarning: `distplot` is a deprecated function and will be removed in a future version. Please adapt your code to use either `displot` (a figure-level function with similar flexibility) or `histplot` (an axes-level function for histograms).\n",
      "  warnings.warn(msg, FutureWarning)\n"
     ]
    },
    {
     "data": {
      "text/plain": [
       "Text(0.5, 1.0, 'Renda')"
      ]
     },
     "execution_count": 122,
     "metadata": {},
     "output_type": "execute_result"
    },
    {
     "data": {
      "image/png": "[encoded data removed]",
      "text/plain": [
       "<Figure size 432x288 with 1 Axes>"
      ]
     },
     "metadata": {
      "needs_background": "light"
     },
     "output_type": "display_data"
    }
   ],
   "source": [
    "sns.distplot(df_risco_credito.renda, bins=50, color='darkviolet').set_title('Renda')"
   ]
  },
  {
   "cell_type": "markdown",
   "id": "6f206af3",
   "metadata": {},
   "source": [
    "#  <a name=\"secao_6\">6. </a>\n",
    "[voltar ao índice](#indice)"
   ]
  },
  {
   "cell_type": "markdown",
   "id": "4cf51389",
   "metadata": {},
   "source": [
    "#  <a name=\"secao_7\">7. </a>\n",
    "[voltar ao índice](#indice)"
   ]
  },
  {
   "cell_type": "markdown",
   "id": "75617d68",
   "metadata": {},
   "source": [
    "#  <a name=\"conclusao\">Conclusão</a>\n",
    "[voltar ao índice](#indice)"
   ]
  }
 ],
 "metadata": {
  "kernelspec": {
   "display_name": "Python 3 (ipykernel)",
   "language": "python",
   "name": "python3"
  },
  "language_info": {
   "codemirror_mode": {
    "name": "ipython",
    "version": 3
   },
   "file_extension": ".py",
   "mimetype": "text/x-python",
   "name": "python",
   "nbconvert_exporter": "python",
   "pygments_lexer": "ipython3",
   "version": "3.9.7"
  }
 },
 "nbformat": 4,
 "nbformat_minor": 5
}
