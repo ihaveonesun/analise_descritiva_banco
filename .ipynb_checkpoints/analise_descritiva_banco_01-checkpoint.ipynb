{
 "cells": [
  {
   "cell_type": "markdown",
   "id": "27958fe3",
   "metadata": {},
   "source": [
    "# <a name='contexto'>Contexto</a>\n",
    "Um grande banco tem o objetivo de desenvolver um modelo para identificar maior probabilidade de <i>default</i>. A tarefa será realizar uma análise descritiva e tratamento dos dados para compreender o perfil dos clientes e, identificar quais fatores podem influenciar no risco de crédito."
   ]
  },
  {
   "cell_type": "markdown",
   "id": "6a079ef7",
   "metadata": {},
   "source": [
    "Esclarecimento:\n",
    "* O ***default*** é um processo que ocorre quando o devedor não consegue honrar com suas obrigações.\n",
    "* <font color='red'>Este notebook trata-se de um exercício de caráter educativo/recreativo, havendo muito mais a ser explorado na base de dados.</font>"
   ]
  },
  {
   "cell_type": "markdown",
   "id": "9e4b4f36",
   "metadata": {},
   "source": [
    "# <a name='indice'>Índice</a>\n",
    "* [Contexto](#contexto)\n",
    "* [Índice](#indice)\n",
    "* [1. Importando Bibliotecas e Base de Dados](#secao_1)\n",
    "* [2. Conhecendo e Tratando a Base de Dados](#secao_2)\n",
    "* [3. Análise Descritiva](#secao_3)\n",
    "* [4. Perfil dos Clientes](#secao_4)\n",
    "* [5. Análise de Outliers](#secao_5)\n",
    "* [6. Análise Bivariada](#secao_6) \n",
    "* [7. ](#secao_7)\n",
    "* [Conclusão](#conclusao)"
   ]
  },
  {
   "cell_type": "markdown",
   "id": "7aebd232",
   "metadata": {},
   "source": [
    "#  <a name=\"secao_1\">1. Importando Bibliotecas e Base de Dados</a>\n",
    "[voltar ao índice](#indice)"
   ]
  },
  {
   "cell_type": "code",
   "execution_count": 1,
   "id": "34bfe091",
   "metadata": {},
   "outputs": [],
   "source": [
    "import pandas as pd\n",
    "import numpy as np\n",
    "import seaborn as sns\n",
    "import statistics as st\n",
    "import matplotlib.pyplot as plt"
   ]
  },
  {
   "cell_type": "code",
   "execution_count": 2,
   "id": "0c7f780e",
   "metadata": {},
   "outputs": [],
   "source": [
    "df_risco_credito = pd.read_csv('dados/risco_credito.csv')"
   ]
  },
  {
   "cell_type": "code",
   "execution_count": 3,
   "id": "d6fbc2c9",
   "metadata": {
    "scrolled": true
   },
   "outputs": [
    {
     "data": {
      "text/html": [
       "<div>\n",
       "<style scoped>\n",
       "    .dataframe tbody tr th:only-of-type {\n",
       "        vertical-align: middle;\n",
       "    }\n",
       "\n",
       "    .dataframe tbody tr th {\n",
       "        vertical-align: top;\n",
       "    }\n",
       "\n",
       "    .dataframe thead th {\n",
       "        text-align: right;\n",
       "    }\n",
       "</style>\n",
       "<table border=\"1\" class=\"dataframe\">\n",
       "  <thead>\n",
       "    <tr style=\"text-align: right;\">\n",
       "      <th></th>\n",
       "      <th>default</th>\n",
       "      <th>t_risco</th>\n",
       "      <th>valor_emprestimo</th>\n",
       "      <th>prazo_pagamento</th>\n",
       "      <th>limite_credito</th>\n",
       "      <th>renda</th>\n",
       "      <th>signo</th>\n",
       "      <th>genero</th>\n",
       "      <th>perfil_facebook</th>\n",
       "      <th>n_emprestimos_inadiplentes</th>\n",
       "    </tr>\n",
       "  </thead>\n",
       "  <tbody>\n",
       "    <tr>\n",
       "      <th>0</th>\n",
       "      <td>False</td>\n",
       "      <td>0.43</td>\n",
       "      <td>20024.31</td>\n",
       "      <td>60.0</td>\n",
       "      <td>62386.0</td>\n",
       "      <td>59869.05</td>\n",
       "      <td>virg</td>\n",
       "      <td>f</td>\n",
       "      <td>True</td>\n",
       "      <td>0.0</td>\n",
       "    </tr>\n",
       "    <tr>\n",
       "      <th>1</th>\n",
       "      <td>False</td>\n",
       "      <td>0.23</td>\n",
       "      <td>10046.51</td>\n",
       "      <td>36.0</td>\n",
       "      <td>NaN</td>\n",
       "      <td>46016.31</td>\n",
       "      <td>sagi</td>\n",
       "      <td>f</td>\n",
       "      <td>False</td>\n",
       "      <td>0.0</td>\n",
       "    </tr>\n",
       "    <tr>\n",
       "      <th>2</th>\n",
       "      <td>False</td>\n",
       "      <td>0.30</td>\n",
       "      <td>21228.25</td>\n",
       "      <td>60.0</td>\n",
       "      <td>NaN</td>\n",
       "      <td>48025.47</td>\n",
       "      <td>libr</td>\n",
       "      <td>m</td>\n",
       "      <td>True</td>\n",
       "      <td>0.0</td>\n",
       "    </tr>\n",
       "    <tr>\n",
       "      <th>3</th>\n",
       "      <td>False</td>\n",
       "      <td>0.15</td>\n",
       "      <td>23032.33</td>\n",
       "      <td>36.0</td>\n",
       "      <td>NaN</td>\n",
       "      <td>46011.12</td>\n",
       "      <td>NaN</td>\n",
       "      <td>m</td>\n",
       "      <td>False</td>\n",
       "      <td>0.0</td>\n",
       "    </tr>\n",
       "    <tr>\n",
       "      <th>4</th>\n",
       "      <td>False</td>\n",
       "      <td>0.08</td>\n",
       "      <td>24026.29</td>\n",
       "      <td>36.0</td>\n",
       "      <td>32366.0</td>\n",
       "      <td>90026.17</td>\n",
       "      <td>libr</td>\n",
       "      <td>m</td>\n",
       "      <td>NaN</td>\n",
       "      <td>0.0</td>\n",
       "    </tr>\n",
       "  </tbody>\n",
       "</table>\n",
       "</div>"
      ],
      "text/plain": [
       "  default  t_risco  valor_emprestimo  prazo_pagamento  limite_credito  \\\n",
       "0   False     0.43          20024.31             60.0         62386.0   \n",
       "1   False     0.23          10046.51             36.0             NaN   \n",
       "2   False     0.30          21228.25             60.0             NaN   \n",
       "3   False     0.15          23032.33             36.0             NaN   \n",
       "4   False     0.08          24026.29             36.0         32366.0   \n",
       "\n",
       "      renda signo genero perfil_facebook  n_emprestimos_inadiplentes  \n",
       "0  59869.05  virg      f            True                         0.0  \n",
       "1  46016.31  sagi      f           False                         0.0  \n",
       "2  48025.47  libr      m            True                         0.0  \n",
       "3  46011.12   NaN      m           False                         0.0  \n",
       "4  90026.17  libr      m             NaN                         0.0  "
      ]
     },
     "execution_count": 3,
     "metadata": {},
     "output_type": "execute_result"
    }
   ],
   "source": [
    "df_risco_credito.head()"
   ]
  },
  {
   "cell_type": "markdown",
   "id": "a2340a3b",
   "metadata": {},
   "source": [
    "#  <a name=\"secao_2\">2. Conhecendo e Tratando a Base de Dados</a>\n",
    "[voltar ao índice](#indice)"
   ]
  },
  {
   "cell_type": "markdown",
   "id": "370e6f26",
   "metadata": {},
   "source": [
    "#### Informações gerais"
   ]
  },
  {
   "cell_type": "code",
   "execution_count": 4,
   "id": "b79330b6",
   "metadata": {},
   "outputs": [
    {
     "name": "stdout",
     "output_type": "stream",
     "text": [
      "<class 'pandas.core.frame.DataFrame'>\n",
      "RangeIndex: 64592 entries, 0 to 64591\n",
      "Data columns (total 10 columns):\n",
      " #   Column                      Non-Null Count  Dtype  \n",
      "---  ------                      --------------  -----  \n",
      " 0   default                     59966 non-null  object \n",
      " 1   t_risco                     63807 non-null  float64\n",
      " 2   valor_emprestimo            63807 non-null  float64\n",
      " 3   prazo_pagamento             63807 non-null  float64\n",
      " 4   limite_credito              44839 non-null  float64\n",
      " 5   renda                       63807 non-null  float64\n",
      " 6   signo                       43825 non-null  object \n",
      " 7   genero                      57406 non-null  object \n",
      " 8   perfil_facebook             58185 non-null  object \n",
      " 9   n_emprestimos_inadiplentes  63789 non-null  float64\n",
      "dtypes: float64(6), object(4)\n",
      "memory usage: 4.9+ MB\n"
     ]
    }
   ],
   "source": [
    "df_risco_credito.info()"
   ]
  },
  {
   "cell_type": "code",
   "execution_count": 5,
   "id": "714d9198",
   "metadata": {},
   "outputs": [
    {
     "data": {
      "text/plain": [
       "default                        4626\n",
       "t_risco                         785\n",
       "valor_emprestimo                785\n",
       "prazo_pagamento                 785\n",
       "limite_credito                19753\n",
       "renda                           785\n",
       "signo                         20767\n",
       "genero                         7186\n",
       "perfil_facebook                6407\n",
       "n_emprestimos_inadiplentes      803\n",
       "dtype: int64"
      ]
     },
     "execution_count": 5,
     "metadata": {},
     "output_type": "execute_result"
    }
   ],
   "source": [
    "df_risco_credito.isnull().sum()"
   ]
  },
  {
   "cell_type": "markdown",
   "id": "cdc7a53a",
   "metadata": {},
   "source": [
    "### Consolidando base de dados"
   ]
  },
  {
   "cell_type": "markdown",
   "id": "10b9967c",
   "metadata": {},
   "source": [
    "#### Tratando de valores nulos"
   ]
  },
  {
   "cell_type": "markdown",
   "id": "8fd19bb9",
   "metadata": {},
   "source": [
    "Por conta da aparente irrelevância, e da elevada quantidade de valores faltantes, será excluída a coluna <i>signo</i>, da base de dados."
   ]
  },
  {
   "cell_type": "code",
   "execution_count": 6,
   "id": "c808a766",
   "metadata": {},
   "outputs": [],
   "source": [
    "df_risco_credito.drop('signo', axis=1, inplace=True)"
   ]
  },
  {
   "cell_type": "markdown",
   "id": "43e2535b",
   "metadata": {},
   "source": [
    "A coluna <i>limite_credito</i>, utilizarei a mediana em seu preenchimento."
   ]
  },
  {
   "cell_type": "code",
   "execution_count": 7,
   "id": "efef8988",
   "metadata": {},
   "outputs": [],
   "source": [
    "df_risco_credito.limite_credito.fillna(df_risco_credito.limite_credito.median(), inplace=True)"
   ]
  },
  {
   "cell_type": "markdown",
   "id": "6ff9fac4",
   "metadata": {},
   "source": [
    "Optarei por excluir os valores faltantes nas demais colunas(decisão que resultará na perda de aproximadamente 20% da base de dados)"
   ]
  },
  {
   "cell_type": "code",
   "execution_count": 8,
   "id": "0d8cbf78",
   "metadata": {},
   "outputs": [],
   "source": [
    "df_risco_credito.dropna(inplace=True)"
   ]
  },
  {
   "cell_type": "markdown",
   "id": "602f52c1",
   "metadata": {},
   "source": [
    "#  <a name=\"secao_3\">3. Análise Descritiva</a>\n",
    "[voltar ao índice](#indice)"
   ]
  },
  {
   "cell_type": "markdown",
   "id": "0e7b7495",
   "metadata": {},
   "source": [
    "#### Tratar features qualitativas"
   ]
  },
  {
   "cell_type": "code",
   "execution_count": 9,
   "id": "efa3f2d6",
   "metadata": {},
   "outputs": [
    {
     "data": {
      "text/plain": [
       "Index(['default', 't_risco', 'valor_emprestimo', 'prazo_pagamento',\n",
       "       'limite_credito', 'renda', 'genero', 'perfil_facebook',\n",
       "       'n_emprestimos_inadiplentes'],\n",
       "      dtype='object')"
      ]
     },
     "execution_count": 9,
     "metadata": {},
     "output_type": "execute_result"
    }
   ],
   "source": [
    "df_risco_credito.columns"
   ]
  },
  {
   "cell_type": "code",
   "execution_count": 10,
   "id": "b3c646be",
   "metadata": {},
   "outputs": [],
   "source": [
    "df_risco_credito.default = df_risco_credito.default.map({False:'Não', True:'Sim'})\n",
    "df_risco_credito.perfil_facebook = df_risco_credito.perfil_facebook.map({False:'Não', True:'Sim'})\n",
    "df_risco_credito.genero = df_risco_credito.genero.map({'m':'Masculino', 'f':'Feminino'})"
   ]
  },
  {
   "cell_type": "markdown",
   "id": "9ef8d2e1",
   "metadata": {},
   "source": [
    "#### Tratar features quantitativas"
   ]
  },
  {
   "cell_type": "code",
   "execution_count": 11,
   "id": "eb6552cb",
   "metadata": {},
   "outputs": [],
   "source": [
    "numericos = ['t_risco', 'valor_emprestimo', 'prazo_pagamento', 'limite_credito', 'renda', 'n_emprestimos_inadiplentes']"
   ]
  },
  {
   "cell_type": "code",
   "execution_count": 12,
   "id": "95dc8989",
   "metadata": {},
   "outputs": [
    {
     "data": {
      "text/html": [
       "<div>\n",
       "<style scoped>\n",
       "    .dataframe tbody tr th:only-of-type {\n",
       "        vertical-align: middle;\n",
       "    }\n",
       "\n",
       "    .dataframe tbody tr th {\n",
       "        vertical-align: top;\n",
       "    }\n",
       "\n",
       "    .dataframe thead th {\n",
       "        text-align: right;\n",
       "    }\n",
       "</style>\n",
       "<table border=\"1\" class=\"dataframe\">\n",
       "  <thead>\n",
       "    <tr style=\"text-align: right;\">\n",
       "      <th></th>\n",
       "      <th>t_risco</th>\n",
       "      <th>valor_emprestimo</th>\n",
       "      <th>prazo_pagamento</th>\n",
       "      <th>limite_credito</th>\n",
       "      <th>renda</th>\n",
       "      <th>n_emprestimos_inadiplentes</th>\n",
       "    </tr>\n",
       "  </thead>\n",
       "  <tbody>\n",
       "    <tr>\n",
       "      <th>count</th>\n",
       "      <td>51259.00</td>\n",
       "      <td>51259.00</td>\n",
       "      <td>51259.00</td>\n",
       "      <td>51259.00</td>\n",
       "      <td>51259.00</td>\n",
       "      <td>51259.00</td>\n",
       "    </tr>\n",
       "    <tr>\n",
       "      <th>mean</th>\n",
       "      <td>0.29</td>\n",
       "      <td>13419.57</td>\n",
       "      <td>40.67</td>\n",
       "      <td>31379.34</td>\n",
       "      <td>71190.55</td>\n",
       "      <td>0.00</td>\n",
       "    </tr>\n",
       "    <tr>\n",
       "      <th>std</th>\n",
       "      <td>0.10</td>\n",
       "      <td>7957.40</td>\n",
       "      <td>9.50</td>\n",
       "      <td>30558.39</td>\n",
       "      <td>52157.41</td>\n",
       "      <td>0.08</td>\n",
       "    </tr>\n",
       "    <tr>\n",
       "      <th>min</th>\n",
       "      <td>0.00</td>\n",
       "      <td>527.07</td>\n",
       "      <td>36.00</td>\n",
       "      <td>0.00</td>\n",
       "      <td>4821.18</td>\n",
       "      <td>0.00</td>\n",
       "    </tr>\n",
       "    <tr>\n",
       "      <th>25%</th>\n",
       "      <td>0.22</td>\n",
       "      <td>7227.28</td>\n",
       "      <td>36.00</td>\n",
       "      <td>17289.00</td>\n",
       "      <td>44027.13</td>\n",
       "      <td>0.00</td>\n",
       "    </tr>\n",
       "    <tr>\n",
       "      <th>50%</th>\n",
       "      <td>0.29</td>\n",
       "      <td>12013.12</td>\n",
       "      <td>36.00</td>\n",
       "      <td>25775.00</td>\n",
       "      <td>60038.33</td>\n",
       "      <td>0.00</td>\n",
       "    </tr>\n",
       "    <tr>\n",
       "      <th>75%</th>\n",
       "      <td>0.36</td>\n",
       "      <td>18036.87</td>\n",
       "      <td>36.00</td>\n",
       "      <td>35003.50</td>\n",
       "      <td>85033.27</td>\n",
       "      <td>0.00</td>\n",
       "    </tr>\n",
       "    <tr>\n",
       "      <th>max</th>\n",
       "      <td>0.81</td>\n",
       "      <td>35059.60</td>\n",
       "      <td>60.00</td>\n",
       "      <td>613117.00</td>\n",
       "      <td>5000027.83</td>\n",
       "      <td>5.00</td>\n",
       "    </tr>\n",
       "  </tbody>\n",
       "</table>\n",
       "</div>"
      ],
      "text/plain": [
       "        t_risco  valor_emprestimo  prazo_pagamento  limite_credito  \\\n",
       "count  51259.00          51259.00         51259.00        51259.00   \n",
       "mean       0.29          13419.57            40.67        31379.34   \n",
       "std        0.10           7957.40             9.50        30558.39   \n",
       "min        0.00            527.07            36.00            0.00   \n",
       "25%        0.22           7227.28            36.00        17289.00   \n",
       "50%        0.29          12013.12            36.00        25775.00   \n",
       "75%        0.36          18036.87            36.00        35003.50   \n",
       "max        0.81          35059.60            60.00       613117.00   \n",
       "\n",
       "            renda  n_emprestimos_inadiplentes  \n",
       "count    51259.00                    51259.00  \n",
       "mean     71190.55                        0.00  \n",
       "std      52157.41                        0.08  \n",
       "min       4821.18                        0.00  \n",
       "25%      44027.13                        0.00  \n",
       "50%      60038.33                        0.00  \n",
       "75%      85033.27                        0.00  \n",
       "max    5000027.83                        5.00  "
      ]
     },
     "execution_count": 12,
     "metadata": {},
     "output_type": "execute_result"
    }
   ],
   "source": [
    "df_risco_credito[numericos].describe().round(2)"
   ]
  },
  {
   "cell_type": "markdown",
   "id": "88faeb2e",
   "metadata": {},
   "source": [
    "#### Coeficiente de Variação"
   ]
  },
  {
   "cell_type": "code",
   "execution_count": 13,
   "id": "72530f3f",
   "metadata": {},
   "outputs": [],
   "source": [
    "def coeficiente_variacao(coluna):\n",
    "    '''Essa função calcula o coeficiente de variação dos valores de uma determinada coluna, e as exibe'''\n",
    "    coeficiente = st.stdev(coluna)/st.mean(coluna)\n",
    "    print(f'CV_{coluna.name}:', round(coeficiente, 2))"
   ]
  },
  {
   "cell_type": "code",
   "execution_count": 14,
   "id": "5d464480",
   "metadata": {},
   "outputs": [
    {
     "name": "stdout",
     "output_type": "stream",
     "text": [
      "CV_t_risco: 0.34\n",
      "CV_valor_emprestimo: 0.59\n",
      "CV_prazo_pagamento: 0.23\n",
      "CV_limite_credito: 0.97\n",
      "CV_renda: 0.73\n",
      "CV_n_emprestimos_inadiplentes: 17.47\n"
     ]
    }
   ],
   "source": [
    "_ = [coeficiente_variacao(df_risco_credito[coluna]) for coluna in numericos]"
   ]
  },
  {
   "cell_type": "markdown",
   "id": "cabf722d",
   "metadata": {},
   "source": [
    "#  <a name=\"secao_4\">4. Perfil dos Clientes</a>\n",
    "[voltar ao índice](#indice)"
   ]
  },
  {
   "cell_type": "code",
   "execution_count": 15,
   "id": "29c56498",
   "metadata": {},
   "outputs": [
    {
     "data": {
      "text/plain": [
       "Não    0.841881\n",
       "Sim    0.158119\n",
       "Name: default, dtype: float64"
      ]
     },
     "execution_count": 15,
     "metadata": {},
     "output_type": "execute_result"
    }
   ],
   "source": [
    "df_risco_credito.default.value_counts(normalize=True)"
   ]
  },
  {
   "cell_type": "code",
   "execution_count": 16,
   "id": "f0a203e4",
   "metadata": {},
   "outputs": [
    {
     "data": {
      "text/plain": [
       "Masculino    0.676213\n",
       "Feminino     0.323787\n",
       "Name: genero, dtype: float64"
      ]
     },
     "execution_count": 16,
     "metadata": {},
     "output_type": "execute_result"
    }
   ],
   "source": [
    "df_risco_credito.genero.value_counts(normalize=True)"
   ]
  },
  {
   "cell_type": "code",
   "execution_count": 17,
   "id": "aa100311",
   "metadata": {},
   "outputs": [
    {
     "data": {
      "text/plain": [
       "Não    0.629841\n",
       "Sim    0.370159\n",
       "Name: perfil_facebook, dtype: float64"
      ]
     },
     "execution_count": 17,
     "metadata": {},
     "output_type": "execute_result"
    }
   ],
   "source": [
    "df_risco_credito.perfil_facebook.value_counts(normalize=True)"
   ]
  },
  {
   "cell_type": "markdown",
   "id": "fad4bd11",
   "metadata": {},
   "source": [
    "* 84% dos clientes não estão em situação <i>default</i>\n",
    "* 67,6% são do gênero masculino\n",
    "* 63% relataram não usarem o Facebook"
   ]
  },
  {
   "cell_type": "markdown",
   "id": "4c064190",
   "metadata": {},
   "source": [
    "#  <a name=\"secao_5\">5. Análise de Outliers</a>\n",
    "[voltar ao índice](#indice)"
   ]
  },
  {
   "cell_type": "markdown",
   "id": "9715a5d4",
   "metadata": {},
   "source": [
    "Para a exclusão de outliers, usarei como regra os valores abaixo de Q1 - 1.5 x Amplitude e valores acima de Q3 + 1.5 x Amplitude. Sendo que a amplitude é definida pelo valor Q1-Q3."
   ]
  },
  {
   "cell_type": "code",
   "execution_count": 18,
   "id": "3c155b1c",
   "metadata": {},
   "outputs": [],
   "source": [
    "def limites(coluna):\n",
    "    '''Essa function define os limites mínimo e máximo. Para que valores fora deste intervalo sejam excluídos'''\n",
    "    q1 = coluna.quantile(0.25)\n",
    "    q3 = coluna.quantile(0.75)\n",
    "    amplitude = q3 - q1\n",
    "    return q1 - 1.5 * amplitude, q3 + 1.5 * amplitude\n",
    "\n",
    "def excluir_outliers(df, nome_coluna):\n",
    "    '''Essa function exclui os outliers que estão fora da área delimitada'''\n",
    "    qtde_linhas = df.shape[0]\n",
    "    limite_inferior, limite_superior = limites(df[nome_coluna])\n",
    "    df = df.loc[(df[nome_coluna] >= limite_inferior) & (df[nome_coluna] <= limite_superior),:]\n",
    "    print('Foram removidas {} linhas/outliers'.format(qtde_linhas - df.shape[0]))\n",
    "    return df"
   ]
  },
  {
   "cell_type": "code",
   "execution_count": 19,
   "id": "8e8f15fc",
   "metadata": {},
   "outputs": [],
   "source": [
    "def grafico_boxplot(coluna):\n",
    "    plt.figure(figsize=(10,4))\n",
    "    sns.boxplot(x = coluna, showmeans=True).set(title = coluna.name.capitalize(), xlabel=None)\n",
    "    \n",
    "def grafico_histograma(coluna):    \n",
    "    sns.displot(coluna, bins=25, height=5, aspect=2)\\\n",
    "    .set(title = coluna.name.capitalize(), xlabel=None)"
   ]
  },
  {
   "cell_type": "markdown",
   "id": "01751c93",
   "metadata": {},
   "source": [
    "#### Feature renda"
   ]
  },
  {
   "cell_type": "markdown",
   "id": "9be8a685",
   "metadata": {},
   "source": [
    "No caso desta feature, se tornou necessária a exclusão dos outliers para melhor proveito do boxplot."
   ]
  },
  {
   "cell_type": "code",
   "execution_count": 21,
   "id": "838b79c3",
   "metadata": {},
   "outputs": [
    {
     "name": "stdout",
     "output_type": "stream",
     "text": [
      "Foram removidas 2434 linhas/outliers\n"
     ]
    }
   ],
   "source": [
    "df_risco_credito = excluir_outliers(df_risco_credito, 'renda')"
   ]
  },
  {
   "cell_type": "code",
   "execution_count": 22,
   "id": "9b9c2189",
   "metadata": {},
   "outputs": [
    {
     "data": {
      "image/png": "[encoded data removed]",
      "text/plain": [
       "<Figure size 720x288 with 1 Axes>"
      ]
     },
     "metadata": {
      "needs_background": "light"
     },
     "output_type": "display_data"
    }
   ],
   "source": [
    "grafico_boxplot(df_risco_credito.renda)"
   ]
  },
  {
   "cell_type": "code",
   "execution_count": 23,
   "id": "bf2e15e4",
   "metadata": {},
   "outputs": [
    {
     "data": {
      "image/png": "[encoded data removed]",
      "text/plain": [
       "<Figure size 720x360 with 1 Axes>"
      ]
     },
     "metadata": {
      "needs_background": "light"
     },
     "output_type": "display_data"
    }
   ],
   "source": [
    "grafico_histograma(df_risco_credito.renda)"
   ]
  },
  {
   "cell_type": "markdown",
   "id": "fbc2dad5",
   "metadata": {},
   "source": [
    "#### Feature valor_emprestimo"
   ]
  },
  {
   "cell_type": "code",
   "execution_count": 24,
   "id": "360f9b77",
   "metadata": {},
   "outputs": [
    {
     "data": {
      "image/png": "[encoded data removed]",
      "text/plain": [
       "<Figure size 720x288 with 1 Axes>"
      ]
     },
     "metadata": {
      "needs_background": "light"
     },
     "output_type": "display_data"
    }
   ],
   "source": [
    "grafico_boxplot(df_risco_credito.valor_emprestimo)"
   ]
  },
  {
   "cell_type": "code",
   "execution_count": 25,
   "id": "9806b9a6",
   "metadata": {},
   "outputs": [
    {
     "data": {
      "image/png": "[encoded data removed]",
      "text/plain": [
       "<Figure size 720x360 with 1 Axes>"
      ]
     },
     "metadata": {
      "needs_background": "light"
     },
     "output_type": "display_data"
    }
   ],
   "source": [
    "grafico_histograma(df_risco_credito.valor_emprestimo)"
   ]
  },
  {
   "cell_type": "markdown",
   "id": "85e3e3a1",
   "metadata": {},
   "source": [
    "#### Feature limite_credito"
   ]
  },
  {
   "cell_type": "markdown",
   "id": "aff47d5c",
   "metadata": {},
   "source": [
    "Para a verificação do limite de crédito, também iremos excluir outliers"
   ]
  },
  {
   "cell_type": "code",
   "execution_count": 27,
   "id": "b9c0fd76",
   "metadata": {},
   "outputs": [
    {
     "name": "stdout",
     "output_type": "stream",
     "text": [
      "Foram removidas 5049 linhas/outliers\n"
     ]
    }
   ],
   "source": [
    "df_risco_credito = excluir_outliers(df_risco_credito, 'limite_credito')"
   ]
  },
  {
   "cell_type": "code",
   "execution_count": 28,
   "id": "90ad1722",
   "metadata": {},
   "outputs": [
    {
     "data": {
      "image/png": "[encoded data removed]",
      "text/plain": [
       "<Figure size 720x288 with 1 Axes>"
      ]
     },
     "metadata": {
      "needs_background": "light"
     },
     "output_type": "display_data"
    }
   ],
   "source": [
    "grafico_boxplot(df_risco_credito.limite_credito)"
   ]
  },
  {
   "cell_type": "code",
   "execution_count": 29,
   "id": "0797569e",
   "metadata": {},
   "outputs": [
    {
     "data": {
      "image/png": "[encoded data removed]",
      "text/plain": [
       "<Figure size 720x360 with 1 Axes>"
      ]
     },
     "metadata": {
      "needs_background": "light"
     },
     "output_type": "display_data"
    }
   ],
   "source": [
    "grafico_histograma(df_risco_credito.limite_credito)"
   ]
  },
  {
   "cell_type": "markdown",
   "id": "862271d7",
   "metadata": {},
   "source": [
    "#  <a name=\"secao_6\">6. Análise Bivariada</a>\n",
    "[voltar ao índice](#indice)"
   ]
  },
  {
   "cell_type": "markdown",
   "id": "1dec4ff5",
   "metadata": {},
   "source": [
    "* Há a relação entre renda e default?\n",
    "* Qual a relação entre renda e valor do emprestimo?\n",
    "* default x n_emperstimos_inadiplentes\n",
    "* renda x inadiplentes x genero\n",
    "* default x perfil_facebook x genero"
   ]
  },
  {
   "cell_type": "code",
   "execution_count": 31,
   "id": "a7dbad15",
   "metadata": {},
   "outputs": [
    {
     "data": {
      "text/plain": [
       "Index(['default', 't_risco', 'valor_emprestimo', 'prazo_pagamento',\n",
       "       'limite_credito', 'renda', 'genero', 'perfil_facebook',\n",
       "       'n_emprestimos_inadiplentes'],\n",
       "      dtype='object')"
      ]
     },
     "execution_count": 31,
     "metadata": {},
     "output_type": "execute_result"
    }
   ],
   "source": [
    "df_risco_credito.columns"
   ]
  },
  {
   "cell_type": "markdown",
   "id": "4fee352f",
   "metadata": {},
   "source": [
    "#  <a name=\"secao_7\">7. </a>\n",
    "[voltar ao índice](#indice)"
   ]
  },
  {
   "cell_type": "markdown",
   "id": "f9563bfa",
   "metadata": {},
   "source": [
    "#  <a name=\"conclusao\">Conclusão</a>\n",
    "[voltar ao índice](#indice)"
   ]
  }
 ],
 "metadata": {
  "kernelspec": {
   "display_name": "Python 3 (ipykernel)",
   "language": "python",
   "name": "python3"
  },
  "language_info": {
   "codemirror_mode": {
    "name": "ipython",
    "version": 3
   },
   "file_extension": ".py",
   "mimetype": "text/x-python",
   "name": "python",
   "nbconvert_exporter": "python",
   "pygments_lexer": "ipython3",
   "version": "3.9.7"
  }
 },
 "nbformat": 4,
 "nbformat_minor": 5
}
